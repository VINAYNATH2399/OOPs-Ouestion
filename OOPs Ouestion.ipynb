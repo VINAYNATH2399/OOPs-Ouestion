{
 "cells": [
  {
   "cell_type": "code",
   "execution_count": null,
   "id": "73cd1056",
   "metadata": {},
   "outputs": [],
   "source": [
    "# SOME QUESTION ON OOPS"
   ]
  },
  {
   "cell_type": "code",
   "execution_count": 3,
   "id": "d76d0381",
   "metadata": {},
   "outputs": [
    {
     "name": "stdout",
     "output_type": "stream",
     "text": [
      "The name of the Microsoft programmer is vinay and the product is Github\n",
      "The name of the Microsoft programmer is Alka and the product is Github\n"
     ]
    }
   ],
   "source": [
    "#Q1 Create a class programmer for storing information of few programmer working at microsoft.\n",
    "class programmer:\n",
    "    company = \"Microsoft\"\n",
    "    def __init__(self,name,product):\n",
    "        self.name = name\n",
    "        self.product = product\n",
    "    def getinfo(self):\n",
    "        print(f\"The name of the {self.company} programmer is {self.name} and the product is {self.product}\")\n",
    "vinay = programmer(\"vinay\",\"Github\")\n",
    "alka = programmer(\"Alka\",\"Github\")\n",
    "vinay.getinfo()\n",
    "alka.getinfo()"
   ]
  },
  {
   "cell_type": "code",
   "execution_count": 1,
   "id": "abb04904",
   "metadata": {},
   "outputs": [
    {
     "name": "stdout",
     "output_type": "stream",
     "text": [
      "The cube of 5 is 25\n",
      "The square of 5 is 125\n",
      "The squareroot of 5 is 2.23606797749979\n"
     ]
    }
   ],
   "source": [
    "#Q2 Write a class claculate capable of finding cube,square and squareroot of a number.\n",
    "class calculator:\n",
    "    def __init__(self,number):\n",
    "        self.number = number\n",
    "    def cube(self):\n",
    "        print(f\"The cube of {self.number} is {self.number**2}\")\n",
    "        \n",
    "    \n",
    "    def square(self):\n",
    "        print(f\"The square of {self.number} is {self.number**3}\")\n",
    "        \n",
    "    def squareroot(self):\n",
    "        print(f\"The squareroot of {self.number} is {self.number**0.5}\")\n",
    "\n",
    "x = calculator(5)\n",
    "x.cube()\n",
    "x.square()\n",
    "x.squareroot()"
   ]
  },
  {
   "cell_type": "code",
   "execution_count": 5,
   "id": "7c787825",
   "metadata": {},
   "outputs": [
    {
     "name": "stdout",
     "output_type": "stream",
     "text": [
      "chintu\n",
      "Vinay\n"
     ]
    }
   ],
   "source": [
    "#Q3 Create a class with class attribute a,creater an object from it and set a \\n\n",
    "#directly using object a=0. Does this change the class attribute\n",
    "class sample:\n",
    "    a = \"Vinay\"\n",
    "obj = sample()    \n",
    "obj.a = \"chintu\"\n",
    "#sample.a = \"chintu\"\n",
    "print(obj.a)\n",
    "print(sample.a)"
   ]
  },
  {
   "cell_type": "code",
   "execution_count": 7,
   "id": "9e01e09d",
   "metadata": {},
   "outputs": [
    {
     "name": "stdout",
     "output_type": "stream",
     "text": [
      "****WELCOME TO THE WORLD OF PYTHON WITH CALCULATOR****\n",
      "The cube of 9 is 81\n",
      "The square of 9 is 729\n",
      "The squareroot of 9 is 3.0\n"
     ]
    }
   ],
   "source": [
    "#Q4 Add a Staticmethod in problem 2 to greet the user with welcome.\n",
    "class calculator:\n",
    "    def __init__(self,number):\n",
    "        self.number = number\n",
    "    def cube(self):\n",
    "        print(f\"The cube of {self.number} is {self.number**2}\")\n",
    "        \n",
    "    \n",
    "    def square(self):\n",
    "        print(f\"The square of {self.number} is {self.number**3}\")\n",
    "        \n",
    "    def squareroot(self):\n",
    "        print(f\"The squareroot of {self.number} is {self.number**0.5}\")\n",
    "    \n",
    "    @staticmethod\n",
    "    \n",
    "    def greet():\n",
    "        print(\"****WELCOME TO THE WORLD OF PYTHON WITH CALCULATOR****\")\n",
    "\n",
    "x = calculator(9)\n",
    "x.greet()\n",
    "x.cube()\n",
    "x.square()\n",
    "x.squareroot()"
   ]
  },
  {
   "cell_type": "code",
   "execution_count": 8,
   "id": "46d1d58d",
   "metadata": {},
   "outputs": [
    {
     "name": "stdout",
     "output_type": "stream",
     "text": [
      "The name of the train is intersity Express\n",
      "The seats available in the train are 50\n",
      "The price of the ticket is Rs-300\n"
     ]
    }
   ],
   "source": [
    "#Q5 Write a class Train which has methods to book a ticket get status(no. of seets)\\n\n",
    "#and get fare information of train running unbder Indian Railway\n",
    "class Train:\n",
    "    def __init__(self,name,fare,seats):\n",
    "        self.name = name\n",
    "        self.fare = fare\n",
    "        self.seats = seats\n",
    "    def getstatus(self):\n",
    "        print(f\"The name of the train is {self.name}\")\n",
    "        print(f\"The seats available in the train are {self.seats}\")\n",
    "    def fareinfo(self):\n",
    "        print(f\"The price of the ticket is Rs-{self.fare}\")\n",
    "        \n",
    "intersity = Train(\"intersity Express\",\"300\",\"50\") \n",
    "intersity.getstatus()\n",
    "intersity.fareinfo()"
   ]
  }
 ],
 "metadata": {
  "kernelspec": {
   "display_name": "Python 3 (ipykernel)",
   "language": "python",
   "name": "python3"
  },
  "language_info": {
   "codemirror_mode": {
    "name": "ipython",
    "version": 3
   },
   "file_extension": ".py",
   "mimetype": "text/x-python",
   "name": "python",
   "nbconvert_exporter": "python",
   "pygments_lexer": "ipython3",
   "version": "3.10.3"
  }
 },
 "nbformat": 4,
 "nbformat_minor": 5
}
